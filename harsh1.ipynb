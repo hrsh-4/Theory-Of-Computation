{
 "cells": [
  {
   "cell_type": "markdown",
   "metadata": {},
   "source": [
    "# DFA with function "
   ]
  },
  {
   "cell_type": "code",
   "execution_count": null,
   "metadata": {},
   "outputs": [],
   "source": [
    "fs = {0}\n",
    "def my_func(string):\n",
    "    dfa = { 0:{'a':1,'b':3},\n",
    "           1:{'a':0,'b':2},\n",
    "           2:{'a':3,'b':1},\n",
    "           3:{'a':2,'b':0}\n",
    "          }\n",
    "    cs = 0\n",
    "    for i in string:\n",
    "        cs = dfa[cs][i]\n",
    "    if cs in fs:\n",
    "        return True\n",
    "    else:\n",
    "        return False\n",
    "my_func('aabbaa')"
   ]
  },
  {
   "cell_type": "markdown",
   "metadata": {},
   "source": [
    "\n",
    "# DFA with function 2 "
   ]
  },
  {
   "cell_type": "code",
   "execution_count": null,
   "metadata": {},
   "outputs": [],
   "source": [
    "dfa = dict()\n",
    "dfa[(0,'a')] = 1\n",
    "dfa[(0,'b')] = 3 \n",
    "dfa[(1,'a')] = 0\n",
    "dfa[(1,'b')] = 2\n",
    "dfa[(2,'a')] = 3\n",
    "dfa[(2,'b')] = 1\n",
    "dfa[(3,'a')] = 2\n",
    "dfa[(3,'b')] = 0\n",
    "print(dfa)\n",
    " \n",
    "fs = {0}\n",
    "def func(s):\n",
    "    cs = 0\n",
    "    for i in s:\n",
    "        cs = dfa[(cs,i)]\n",
    "    if cs in fs:\n",
    "        return True\n",
    "    else:\n",
    "        return False\n",
    "func('aabb')"
   ]
  },
  {
   "cell_type": "markdown",
   "metadata": {},
   "source": [
    "# DFA with classes"
   ]
  },
  {
   "cell_type": "code",
   "execution_count": null,
   "metadata": {},
   "outputs": [],
   "source": [
    "dfa = { 0:{'a':1,'b':3},\n",
    "           1:{'a':0,'b':2},\n",
    "           2:{'a':3,'b':1},\n",
    "           3:{'a':2,'b':0}\n",
    "          }\n",
    "class MyClass():\n",
    "   \n",
    "    fs = {0}\n",
    "    \n",
    "    def __init__(self,dfa):\n",
    "        self.dfa = dfa\n",
    "    def moves(self,string):\n",
    "        cs = 0\n",
    "        for i in string:\n",
    "            cs = self.dfa[cs][i]\n",
    "        if cs in fs:\n",
    "            return True\n",
    "        else:\n",
    "            return False\n",
    "\n",
    "myobj = MyClass(dfa)\n",
    "myobj.moves('aabbbbbbbbbbbb')\n",
    "    "
   ]
  },
  {
   "cell_type": "code",
   "execution_count": null,
   "metadata": {},
   "outputs": [],
   "source": []
  }
 ],
 "metadata": {
  "kernelspec": {
   "display_name": "Python 3",
   "language": "python",
   "name": "python3"
  },
  "language_info": {
   "name": ""
  }
 },
 "nbformat": 4,
 "nbformat_minor": 2
}
