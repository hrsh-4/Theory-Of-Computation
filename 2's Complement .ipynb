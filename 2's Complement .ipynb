{
 "cells": [
  {
   "cell_type": "markdown",
   "metadata": {},
   "source": [
    "\n",
    "# 2's COMPLEMENT"
   ]
  },
  {
   "cell_type": "code",
   "execution_count": 28,
   "metadata": {},
   "outputs": [
    {
     "name": "stdout",
     "output_type": "stream",
     "text": [
      "Enter any string: 1001\n",
      "2's complement of given string  1001  is: 0111\n",
      "\n",
      "1 for continue | 2 for stop\n",
      "Enter your choice:1\n",
      "you choose  1  option\n",
      "Enter any string: 00101\n",
      "2's complement of given string  00101  is: 11011\n",
      "\n",
      "1 for continue | 2 for stop\n",
      "Enter your choice:1\n",
      "you choose  1  option\n",
      "Enter any string: 10101\n",
      "2's complement of given string  10101  is: 01011\n",
      "\n",
      "1 for continue | 2 for stop\n",
      "Enter your choice:2\n",
      "you choose  2  option\n",
      "EXITING...\n"
     ]
    }
   ],
   "source": [
    "while True:\n",
    "    dfa={'A':{'0':{'output':'0','state':'A'},'1':{'output':'1','state':'B'}},\n",
    "         'B':{'0':{'output':'1','state':'B'},'1':{'output':'0','state':'B'}}}\n",
    "    st=input(\"Enter any string: \")\n",
    "    print(\"2's complement of given string \",st,\" is: \",end=\"\")\n",
    "    st=st[::-1]\n",
    "    ini='A'\n",
    "    output=[]\n",
    "    for i in st:\n",
    "        output.append(dfa[ini][i]['output'])\n",
    "        ini=dfa[ini][i]['state']\n",
    "    print(''.join(output[::-1]))\n",
    "    print(\"\\n1 for continue | 2 for stop\")\n",
    "    c=int(input(\"Enter your choice:\"))\n",
    "    print(\"you choose \",c,\" option\")\n",
    "    if c==2:\n",
    "        print(\"you are exited\")\n",
    "        break"
   ]
  },
  {
   "cell_type": "code",
   "execution_count": null,
   "metadata": {},
   "outputs": [],
   "source": []
  },
  {
   "cell_type": "code",
   "execution_count": null,
   "metadata": {},
   "outputs": [],
   "source": []
  }
 ],
 "metadata": {
  "kernelspec": {
   "display_name": "Python 3",
   "language": "python",
   "name": "python3"
  },
  "language_info": {
   "codemirror_mode": {
    "name": "ipython",
    "version": 3
   },
   "file_extension": ".py",
   "mimetype": "text/x-python",
   "name": "python",
   "nbconvert_exporter": "python",
   "pygments_lexer": "ipython3",
   "version": "3.7.3"
  }
 },
 "nbformat": 4,
 "nbformat_minor": 2
}
