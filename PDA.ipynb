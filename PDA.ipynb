{
 "cells": [
  {
   "cell_type": "markdown",
   "metadata": {},
   "source": [
    "# PDA FOR a^nb^n where n>=1"
   ]
  },
  {
   "cell_type": "code",
   "execution_count": 10,
   "metadata": {},
   "outputs": [
    {
     "name": "stdout",
     "output_type": "stream",
     "text": [
      "1 : Continue\n",
      " Any Number except 1 : Exit\n",
      "1\n",
      "Enter a string:aabb\n",
      "['a']\n",
      "['a', 'a']\n",
      "['a']\n",
      "[]\n",
      "PDA is acceptable\n",
      "1 : Continue\n",
      " Any Number except 1 : Exit\n",
      "1\n",
      "Enter a string:aaba\n",
      "['a']\n",
      "['a', 'a']\n",
      "['a']\n",
      "['a', 'a']\n",
      "NOt acceptable\n",
      "1 : Continue\n",
      " Any Number except 1 : Exit\n",
      "2\n"
     ]
    }
   ],
   "source": [
    "class Stack:\n",
    "        def __init__(self):\n",
    "            self.l=[]\n",
    "        def push(self,x):\n",
    "            self.l.append(x)\n",
    "            print(self.l)\n",
    "        def pop(self):\n",
    "            self.l.pop()\n",
    "            print(self.l)\n",
    "        def isempty(self):\n",
    "            return self.l==[]\n",
    "while(True):\n",
    "    print(\"1 : Continue\\n Any Number except 1 : Exit\")\n",
    "    choice = int(input())\n",
    "    if choice == 1:\n",
    "        ip=Stack()\n",
    "        n=input(\"Enter a string:\")\n",
    "        for i in n:\n",
    "            if(i=='a'):\n",
    "                ip.push(i)\n",
    "            elif(i=='b'):\n",
    "                ip.pop()\n",
    "        if(ip.isempty()):\n",
    "            print(\"PDA is acceptable\")\n",
    "        else:\n",
    "            print(\"NOt acceptable\")\n",
    "    else:\n",
    "        break\n"
   ]
  },
  {
   "cell_type": "code",
   "execution_count": null,
   "metadata": {},
   "outputs": [],
   "source": []
  },
  {
   "cell_type": "code",
   "execution_count": null,
   "metadata": {},
   "outputs": [],
   "source": []
  }
 ],
 "metadata": {
  "kernelspec": {
   "display_name": "Python 3",
   "language": "python",
   "name": "python3"
  },
  "language_info": {
   "codemirror_mode": {
    "name": "ipython",
    "version": 3
   },
   "file_extension": ".py",
   "mimetype": "text/x-python",
   "name": "python",
   "nbconvert_exporter": "python",
   "pygments_lexer": "ipython3",
   "version": "3.7.3"
  }
 },
 "nbformat": 4,
 "nbformat_minor": 2
}
