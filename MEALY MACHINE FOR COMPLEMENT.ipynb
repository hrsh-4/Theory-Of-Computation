{
 "cells": [
  {
   "cell_type": "markdown",
   "metadata": {},
   "source": [
    "# SIMULATE A MEALY MACHINE USING DICTIONARY AND LIST\n"
   ]
  },
  {
   "cell_type": "markdown",
   "metadata": {},
   "source": [
    "# MEALY MACHINE FOR COMPLEMENT OF A BINARY STRING"
   ]
  },
  {
   "cell_type": "code",
   "execution_count": 35,
   "metadata": {},
   "outputs": [
    {
     "name": "stdout",
     "output_type": "stream",
     "text": [
      "01011101011"
     ]
    }
   ],
   "source": [
    "mealy = {\n",
    "    \"a\":{1:{'a':0},0:{'a':1}},\n",
    "}\n",
    "\n",
    "def func(s):\n",
    "    ins = 'a'\n",
    "    fis = {'a'}\n",
    "    for i in s:\n",
    "        print(mealy[ins][int(i)][ins],end=\"\")\n",
    "\n",
    "func('10100010100')\n"
   ]
  },
  {
   "cell_type": "markdown",
   "metadata": {},
   "source": [
    "# MEALY MACHINE FOR EVEN OR ODD STRING LENGTH"
   ]
  },
  {
   "cell_type": "code",
   "execution_count": null,
   "metadata": {},
   "outputs": [],
   "source": [
    "+"
   ]
  }
 ],
 "metadata": {
  "kernelspec": {
   "display_name": "Python 3",
   "language": "python",
   "name": "python3"
  },
  "language_info": {
   "codemirror_mode": {
    "name": "ipython",
    "version": 3
   },
   "file_extension": ".py",
   "mimetype": "text/x-python",
   "name": "python",
   "nbconvert_exporter": "python",
   "pygments_lexer": "ipython3",
   "version": "3.7.1"
  }
 },
 "nbformat": 4,
 "nbformat_minor": 2
}
