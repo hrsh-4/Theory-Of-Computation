{
 "cells": [
  {
   "cell_type": "markdown",
   "metadata": {},
   "source": [
    "# SIMULATE A MEALY MACHINE USING DICTIONARY AND LIST\n"
   ]
  },
  {
   "cell_type": "markdown",
   "metadata": {},
   "source": [
    "# MEALY MACHINE FOR COMPLEMENT OF A BINARY STRING"
   ]
  },
  {
   "cell_type": "code",
   "execution_count": 55,
   "metadata": {},
   "outputs": [
    {
     "name": "stdout",
     "output_type": "stream",
     "text": [
      "01011101011\n",
      "01100\n"
     ]
    }
   ],
   "source": [
    "mealy = {\n",
    "    \"a\":{1:{'a':0},0:{'a':1}},\n",
    "}\n",
    "\n",
    "def func(s):\n",
    "    ins = 'a'\n",
    "    fis = {'a'}\n",
    "    for i in s:\n",
    "        print(mealy[ins][int(i)][ins],end=\"\")\n",
    "    print()\n",
    "\n",
    "func('10100010100')\n",
    "\n",
    "func('10011')\n"
   ]
  },
  {
   "cell_type": "markdown",
   "metadata": {},
   "source": [
    "# MEALY MACHINE FOR EVEN OR ODD STRING LENGTH"
   ]
  },
  {
   "cell_type": "code",
   "execution_count": 89,
   "metadata": {},
   "outputs": [
    {
     "name": "stdout",
     "output_type": "stream",
     "text": [
      "even\n",
      "odd\n"
     ]
    }
   ],
   "source": [
    "mealy = {\n",
    "    '0':{'0':['0','even'],'1':['1','odd']},\n",
    "    '1':{'0':['1','odd'],'1':['0','even']}\n",
    "}\n",
    "\n",
    "def func(s):\n",
    "    ins = '0'\n",
    "    current = None\n",
    "    \n",
    "    for i in s:\n",
    "        ins = mealy[ins][i][0]\n",
    "    print(mealy[ins][i][1])\n",
    "        \n",
    "func('010101')\n",
    "func('010')"
   ]
  }
 ],
 "metadata": {
  "kernelspec": {
   "display_name": "Python 3",
   "language": "python",
   "name": "python3"
  },
  "language_info": {
   "codemirror_mode": {
    "name": "ipython",
    "version": 3
   },
   "file_extension": ".py",
   "mimetype": "text/x-python",
   "name": "python",
   "nbconvert_exporter": "python",
   "pygments_lexer": "ipython3",
   "version": "3.7.1"
  }
 },
 "nbformat": 4,
 "nbformat_minor": 2
}
