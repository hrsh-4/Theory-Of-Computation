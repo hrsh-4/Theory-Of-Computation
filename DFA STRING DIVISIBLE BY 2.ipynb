{
 "cells": [
  {
   "cell_type": "markdown",
   "metadata": {},
   "source": [
    "\n",
    "# 2's COMPLEMENT"
   ]
  },
  {
   "cell_type": "code",
   "execution_count": 29,
   "metadata": {},
   "outputs": [
    {
     "name": "stdout",
     "output_type": "stream",
     "text": [
      "True\n",
      "True\n"
     ]
    }
   ],
   "source": [
    "dfa = {\n",
    "    'a':{0:'a',1:'b'},\n",
    "    'b':{0:'a',1:'b'}\n",
    "}\n",
    "\n",
    "def divisibleby2(r):\n",
    "    s = str(r)\n",
    "    ins = 'a'\n",
    "    fis = 'a'\n",
    "    for i in s:\n",
    "        isn = dfa[ins][int(i)]\n",
    "        if ins in fis:\n",
    "            return True\n",
    "        else:\n",
    "            return False\n",
    "        \n",
    "print(divisibleby2('0100')) #4\n",
    "print(divisibleby2('1000'))  #8\n"
   ]
  },
  {
   "cell_type": "code",
   "execution_count": null,
   "metadata": {},
   "outputs": [],
   "source": []
  },
  {
   "cell_type": "code",
   "execution_count": null,
   "metadata": {},
   "outputs": [],
   "source": []
  }
 ],
 "metadata": {
  "kernelspec": {
   "display_name": "Python 3",
   "language": "python",
   "name": "python3"
  },
  "language_info": {
   "codemirror_mode": {
    "name": "ipython",
    "version": 3
   },
   "file_extension": ".py",
   "mimetype": "text/x-python",
   "name": "python",
   "nbconvert_exporter": "python",
   "pygments_lexer": "ipython3",
   "version": "3.7.3"
  }
 },
 "nbformat": 4,
 "nbformat_minor": 2
}
