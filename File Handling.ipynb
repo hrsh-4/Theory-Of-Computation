{
 "cells": [
  {
   "cell_type": "markdown",
   "metadata": {},
   "source": [
    "COUNT ALPHABETS, SPECIAL CHARACETRS AND BLANK SPACES IN A FILE\n"
   ]
  },
  {
   "cell_type": "code",
   "execution_count": 10,
   "metadata": {},
   "outputs": [
    {
     "name": "stdout",
     "output_type": "stream",
     "text": [
      "This is a test file containing alphabets, %^#$^*& and blank spaces.\n",
      "Alphabets :  48\n",
      "Blank spaces :  10\n",
      "Special characters :  9\n",
      "No. of words :  11\n"
     ]
    }
   ],
   "source": [
    "\n",
    "alpha = blank = special = words = 0\n",
    "file = open('harsh.txt','r')\n",
    "for line in file:\n",
    "    print(line)\n",
    "    x = line.split()\n",
    "    words += len(x)\n",
    "    for letter in line:\n",
    "        if letter.isalpha():\n",
    "            alpha += 1\n",
    "        elif letter ==\" \":\n",
    "            blank += 1\n",
    "        else:\n",
    "            special += 1\n",
    "print(\"Alphabets : \",alpha)\n",
    "print(\"Blank spaces : \",blank)\n",
    "print(\"Special characters : \",special)\n",
    "print(\"No. of words : \",words)"
   ]
  }
 ],
 "metadata": {
  "kernelspec": {
   "display_name": "Python 3",
   "language": "python",
   "name": "python3"
  },
  "language_info": {
   "codemirror_mode": {
    "name": "ipython",
    "version": 3
   },
   "file_extension": ".py",
   "mimetype": "text/x-python",
   "name": "python",
   "nbconvert_exporter": "python",
   "pygments_lexer": "ipython3",
   "version": "3.7.0"
  }
 },
 "nbformat": 4,
 "nbformat_minor": 2
}
