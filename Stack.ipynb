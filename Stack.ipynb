{
 "cells": [
  {
   "cell_type": "markdown",
   "metadata": {},
   "source": [
    "# STACK \n"
   ]
  },
  {
   "cell_type": "code",
   "execution_count": 5,
   "metadata": {},
   "outputs": [
    {
     "name": "stdout",
     "output_type": "stream",
     "text": [
      "Size of stack is :  0\n",
      "Stack is empty\n",
      "Cannot remove element, stack is empty\n",
      "Enter a value to push : 4\n",
      "Enter a value to push : 8\n",
      "Enter a value to push : 5\n",
      "Popped out elememt :  5\n",
      "['4', '8']\n"
     ]
    }
   ],
   "source": [
    "class Stack():\n",
    "    def __init__(self):\n",
    "        self.l = []\n",
    "    def push(self):\n",
    "        x = input(\"Enter a value to push : \")\n",
    "        self.l.append(x)\n",
    "    def pop(self):\n",
    "        if len(self.l)==0:\n",
    "            print(\"Cannot remove element, stack is empty\")\n",
    "        else:\n",
    "            print(\"Popped out elememt : \",self.l[-1])\n",
    "            self.l.pop()\n",
    "            \n",
    "    def size(self):\n",
    "        print('Size of stack is : ',len(self.l))\n",
    "    def isEmpty(self):\n",
    "        if len(self.l)==0:\n",
    "            print(\"Stack is empty\")\n",
    "        else:\n",
    "            print('Stack is not empty')\n",
    "    def display(self):\n",
    "        print(self.l)\n",
    "    \n",
    "mystack = Stack()\n",
    "\n",
    "mystack.size()\n",
    "mystack.isEmpty()\n",
    "mystack.pop()\n",
    "mystack.push()\n",
    "mystack.push()\n",
    "mystack.push()\n",
    "mystack.pop()\n",
    "mystack.display()\n"
   ]
  }
