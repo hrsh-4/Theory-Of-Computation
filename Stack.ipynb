{
 "cells": [
  {
   "cell_type": "markdown",
   "metadata": {},
   "source": [
    "# STACK \n"
   ]
  },
  {
   "cell_type": "code",
   "execution_count": 5,
   "metadata": {},
   "outputs": [
    {
     "name": "stdout",
     "output_type": "stream",
     "text": [
      "Size of stack is :  0\n",
      "Stack is empty\n",
      "Cannot remove element, stack is empty\n",
      "Enter a value to push : 4\n",
      "Enter a value to push : 8\n",
      "Enter a value to push : 5\n",
      "Popped out elememt :  5\n",
      "['4', '8']\n"
     ]
    }
   ],
   "source": [
    "class Stack():\n",
    "    def __init__(self):\n",
    "        self.l = []\n",
    "    def push(self):\n",
    "        x = input(\"Enter a value to push : \")\n",
    "        self.l.append(x)\n",
    "    def pop(self):\n",
    "        if len(self.l)==0:\n",
    "            print(\"Cannot remove element, stack is empty\")\n",
    "        else:\n",
    "            print(\"Popped out elememt : \",self.l[-1])\n",
    "            self.l.pop()\n",
    "            \n",
    "    def size(self):\n",
    "        print('Size of stack is : ',len(self.l))\n",
    "    def isEmpty(self):\n",
    "        if len(self.l)==0:\n",
    "            print(\"Stack is empty\")\n",
    "        else:\n",
    "            print('Stack is not empty')\n",
    "    def display(self):\n",
    "        print(self.l)\n",
    "    \n",
    "mystack = Stack()\n",
    "\n",
    "mystack.size()\n",
    "mystack.isEmpty()\n",
    "mystack.pop()\n",
    "mystack.push()\n",
    "mystack.push()\n",
    "mystack.push()\n",
    "mystack.pop()\n",
    "mystack.display()\n"
   ]
  },
  {
   "cell_type": "markdown",
   "metadata": {},
   "source": [
    "# Balanced Parathesis\n"
   ]
  },
  {
   "cell_type": "code",
   "execution_count": 21,
   "metadata": {},
   "outputs": [
    {
     "name": "stdout",
     "output_type": "stream",
     "text": [
      "Enter the expression : {gg[gdfg]}\n",
      "Expression is Valid\n"
     ]
    }
   ],
   "source": [
    "\n",
    "class Stack:\n",
    "    def __init__(self):\n",
    "        self.l = []\n",
    "    def push(self, a):\n",
    "        self.l.append(a)\n",
    "    def pop(self):\n",
    "        if len(self.l):\n",
    "            self.l.pop()\n",
    "    def isEmpty(self):\n",
    "        if len(self.l):\n",
    "            return False\n",
    "        else:\n",
    "            return True\n",
    "    def length(self):\n",
    "        return len(self.l)\n",
    "        \n",
    "                \n",
    "open = ['(', '{', '[']\n",
    "close = ['(', ')', '{', '}', '[', ']']\n",
    "\n",
    "s = input(\"Enter the expression : \")\n",
    "stack = Stack()\n",
    "\n",
    "s = list(s)\n",
    "for i in s:\n",
    "    if i in open:\n",
    "        stack.push(i)\n",
    "    elif i in close:\n",
    "        j = close.index(i)\n",
    "        if stack.isEmpty() == False and stack.l[-1] == close[j-1]:\n",
    "            stack.pop()\n",
    "        else:\n",
    "            print('Expression is Invalid')\n",
    "            stack.push('TOC')\n",
    "            break\n",
    "\n",
    "if stack.isEmpty():\n",
    "    print('Expression is Valid')"
   ]
  },
  {
   "cell_type": "markdown",
   "metadata": {},
   "source": []
  },
  {
   "cell_type": "code",
   "execution_count": null,
   "metadata": {},
   "outputs": [],
   "source": []
  },
  {
   "cell_type": "code",
   "execution_count": null,
   "metadata": {},
   "outputs": [],
   "source": []
  }
 ],
 "metadata": {
  "kernelspec": {
   "display_name": "Python 3",
   "language": "python",
   "name": "python3"
  },
  "language_info": {
   "codemirror_mode": {
    "name": "ipython",
    "version": 3
   },
   "file_extension": ".py",
   "mimetype": "text/x-python",
   "name": "python",
   "nbconvert_exporter": "python",
   "pygments_lexer": "ipython3",
   "version": "3.7.0"
  }
 },
 "nbformat": 4,
 "nbformat_minor": 2
}
