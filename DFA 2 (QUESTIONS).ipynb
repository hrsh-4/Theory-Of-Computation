{
 "cells": [
  {
   "cell_type": "markdown",
   "metadata": {},
   "source": [
    "# DFA ACCEPTING CONSECUTIVE 3 1'S"
   ]
  },
  {
   "cell_type": "code",
   "execution_count": 4,
   "metadata": {},
   "outputs": [
    {
     "data": {
      "text/plain": [
       "True"
      ]
     },
     "execution_count": 4,
     "metadata": {},
     "output_type": "execute_result"
    }
   ],
   "source": [
    "dfa =   {\n",
    "        'a':{0:'a',1:'b'},\n",
    "        'b':{0:'a',1:'c'},\n",
    "        'c':{0:'a',1:'d'},\n",
    "        'd':{0:'d',1:'a'},\n",
    "        }\n",
    "\n",
    "\n",
    "def mydfa(r):\n",
    "    s = str(r)\n",
    "    ins = 'a'\n",
    "    fis = ['d']\n",
    "    for i in s:\n",
    "        ins = dfa[ins][int(i)]\n",
    "    if ins in fis:\n",
    "        return True\n",
    "    else:\n",
    "        return False\n",
    "\n",
    "mydfa('0100111100111')"
   ]
  },
  {
   "cell_type": "markdown",
   "metadata": {},
   "source": [
    "# DFA ENDING WITH 101"
   ]
  },
  {
   "cell_type": "code",
   "execution_count": 37,
   "metadata": {},
   "outputs": [
    {
     "data": {
      "text/plain": [
       "True"
      ]
     },
     "execution_count": 37,
     "metadata": {},
     "output_type": "execute_result"
    }
   ],
   "source": [
    "dfa = {\n",
    "    'a':{0:'a',1:'b'},\n",
    "    'b':{0:'c',1:'b'},\n",
    "    'c':{0:'a',1:'d'},\n",
    "    'd':{0:'a',1:'a'},\n",
    "    'e':{0:'e',1:'e'},\n",
    "    \n",
    "}\n",
    "\n",
    "def myfunc2(r):\n",
    "    s = str(r)\n",
    "    ins = 'a'\n",
    "    fis = ['d']\n",
    "    for i in s:\n",
    "        ins = dfa[ins][int(i)]\n",
    "    if ins in fis:\n",
    "        return True\n",
    "    else:\n",
    "        return False\n",
    "\n",
    "myfunc2('01011111100101011011101')"
   ]
  },
  {
   "cell_type": "markdown",
   "metadata": {},
   "source": [
    "# DFA ACCEPTING STRINGS OF LENGTH 3"
   ]
  },
  {
   "cell_type": "code",
   "execution_count": 44,
   "metadata": {},
   "outputs": [
    {
     "data": {
      "text/plain": [
       "False"
      ]
     },
     "execution_count": 44,
     "metadata": {},
     "output_type": "execute_result"
    }
   ],
   "source": [
    "dfa = {\n",
    "    'a':{0:\"b\",1:'b'},\n",
    "    'b':{0:'c',1:'c'},\n",
    "    'c':{0:'a',1:'a'},\n",
    "}\n",
    "\n",
    "def myfunc3(r):\n",
    "    s = str(r)\n",
    "    ins = 'a'\n",
    "    fis = ['a']\n",
    "    for i in s :\n",
    "        ins = dfa[ins][int(i)]\n",
    "    if ins in fis:\n",
    "        return True\n",
    "    else:\n",
    "        return False\n",
    "\n",
    "myfunc3('0001110')"
   ]
  },
  {
   "cell_type": "markdown",
   "metadata": {},
   "source": [
    "# DFA ACCEPTING STRING THAT HAS EQUAL NO OF 0'S AND 1'S"
   ]
  },
  {
   "cell_type": "code",
   "execution_count": 3,
   "metadata": {},
   "outputs": [
    {
     "data": {
      "text/plain": [
       "True"
      ]
     },
     "execution_count": 3,
     "metadata": {},
     "output_type": "execute_result"
    }
   ],
   "source": [
    "dfa = {\n",
    "    'a':{0:'b',1:'b'},\n",
    "    'b':{0:'a',1:'a'}\n",
    "}\n",
    "\n",
    "def func4(r):\n",
    "    s = str(r)\n",
    "    ins = 'a'\n",
    "    fis = ['a']\n",
    "    for i in s:\n",
    "        ins = dfa[ins][int(i)]\n",
    "    if ins in fis:\n",
    "        return True\n",
    "    else:\n",
    "        return False\n",
    "\n",
    "func4('11000011')\n",
    "\n"
   ]
  }
 ],
 "metadata": {
  "kernelspec": {
   "display_name": "Python 3",
   "language": "python",
   "name": "python3"
  },
  "language_info": {
   "codemirror_mode": {
    "name": "ipython",
    "version": 3
   },
   "file_extension": ".py",
   "mimetype": "text/x-python",
   "name": "python",
   "nbconvert_exporter": "python",
   "pygments_lexer": "ipython3",
   "version": "3.7.0"
  }
 },
 "nbformat": 4,
 "nbformat_minor": 2
}
