{
 "cells": [
  {
   "cell_type": "markdown",
   "metadata": {},
   "source": [
    "Queue\n",
    "\n"
   ]
  },
  {
   "cell_type": "code",
   "execution_count": 8,
   "metadata": {},
   "outputs": [
    {
     "name": "stdout",
     "output_type": "stream",
     "text": [
      "Queue is empty\n"
     ]
    },
    {
     "name": "stdin",
     "output_type": "stream",
     "text": [
      "Enter element to insert :  4\n",
      "Enter element to insert :  7\n",
      "Enter element to insert :  8\n"
     ]
    },
    {
     "name": "stdout",
     "output_type": "stream",
     "text": [
      "Queue :  ['8', '7']\n",
      "Queue not empty\n"
     ]
    }
   ],
   "source": [
    "class Queue():\n",
    "    def __init__(self):\n",
    "        self.l = []\n",
    "    def enqueue(self):\n",
    "        x = input(\"Enter element to insert : \") \n",
    "        self.l.insert(0,x)\n",
    "    def dequeue(self):\n",
    "        if len(self.l)!=0:\n",
    "            self.l.pop(-1)\n",
    "    def isEmpty(self):\n",
    "        if len(self.l)==0:\n",
    "            print(\"Queue is empty\")\n",
    "        else:\n",
    "            print(\"Queue not empty\")\n",
    "    def display(self):\n",
    "        print(\"Queue : \",self.l)\n",
    "    \n",
    "queue = Queue()\n",
    "queue.isEmpty()\n",
    "queue.enqueue()\n",
    "queue.enqueue()\n",
    "queue.enqueue()\n",
    "queue.dequeue()\n",
    "queue.display()\n",
    "queue.isEmpty()\n"
   ]
  },
  {
   "cell_type": "markdown",
   "metadata": {},
   "source": [
    "Double Ended Queue"
   ]
  },
  {
   "cell_type": "code",
   "execution_count": 15,
   "metadata": {},
   "outputs": [
    {
     "name": "stdout",
     "output_type": "stream",
     "text": [
      "Queue is empty\n"
     ]
    },
    {
     "name": "stdin",
     "output_type": "stream",
     "text": [
      "Enter value to insert at front : 1\n",
      "Enter value to insert at end : 3\n",
      "Enter value to insert at end : 5\n",
      "Enter value to insert at front : 6\n"
     ]
    },
    {
     "name": "stdout",
     "output_type": "stream",
     "text": [
      "['6', '1', '3', '5']\n",
      "['1', '3']\n"
     ]
    }
   ],
   "source": [
    "class DQueue():\n",
    "    def __init__(self):\n",
    "        self.l = []\n",
    "    def insert_end(self):\n",
    "        x = input(\"Enter value to insert at end :\")\n",
    "        self.l.append(x)\n",
    "    def insert_front(self):\n",
    "        y = input(\"Enter value to insert at front :\")\n",
    "        self.l.insert(0,y)\n",
    "    def delete_end(self):\n",
    "        if len(self.l)!=0:\n",
    "            self.l.pop()\n",
    "    def delete_front(self):\n",
    "        if len(self.l)!=0:\n",
    "            self.l.pop(0)\n",
    "    def display(self):\n",
    "        print(self.l)\n",
    "    def size(self):\n",
    "        print(len(self.l))\n",
    "    def isEmpty(self):\n",
    "        if len(self.l)==0:\n",
    "            print(\"Queue is empty\")\n",
    "        else:\n",
    "            print(\"Queue not empty\")\n",
    "dqueue = DQueue()\n",
    "\n",
    "dqueue.isEmpty()\n",
    "dqueue.insert_front()\n",
    "dqueue.insert_end()\n",
    "dqueue.insert_end()\n",
    "dqueue.insert_front()\n",
    "dqueue.display()\n",
    "dqueue.delete_end()\n",
    "dqueue.delete_front()\n",
    "dqueue.display()"
   ]
  }
 ],
 "metadata": {
  "kernelspec": {
   "display_name": "Python 3",
   "language": "python",
   "name": "python3"
  },
  "language_info": {
   "codemirror_mode": {
    "name": "ipython",
    "version": 3
   },
   "file_extension": ".py",
   "mimetype": "text/x-python",
   "name": "python",
   "nbconvert_exporter": "python",
   "pygments_lexer": "ipython3",
   "version": "3.7.0"
  }
 },
 "nbformat": 4,
 "nbformat_minor": 2
}
